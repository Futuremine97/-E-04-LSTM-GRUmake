{
 "cells": [
  {
   "cell_type": "code",
   "execution_count": 109,
   "id": "1d6ef6a5",
   "metadata": {},
   "outputs": [
    {
     "name": "stdout",
     "output_type": "stream",
     "text": [
      "데이터 크기: 13495\n",
      "Examples:\n",
      " ['GRE General Test-Verbal <SE/TC/RC/CR > 47 vol. 2', '', '6. Having displayed his art collection in a vast modernist white space in (i) former warehouse, Mr.']\n"
     ]
    }
   ],
   "source": [
    "import glob\n",
    "import os\n",
    "\n",
    "txt_file_path = os.getenv('HOME')+'/aiffel/merge.txt'\n",
    "\n",
    "txt_list = glob.glob(txt_file_path)\n",
    "\n",
    "raw_corpus = []\n",
    "\n",
    "# 여러개의 txt 파일을 모두 읽어서 raw_corpus 에 담습니다.\n",
    "for txt_file in txt_list:\n",
    "    with open(txt_file, \"r\") as f:\n",
    "        raw = f.read().splitlines()\n",
    "        raw_corpus.extend(raw)\n",
    "\n",
    "print(\"데이터 크기:\", len(raw_corpus))\n",
    "print(\"Examples:\\n\", raw_corpus[:3])"
   ]
  },
  {
   "cell_type": "code",
   "execution_count": 110,
   "id": "416f3933",
   "metadata": {},
   "outputs": [
    {
     "name": "stdout",
     "output_type": "stream",
     "text": [
      "\n",
      "Source Train: (7340, 18)\n",
      "Target Train: (7340, 18)\n"
     ]
    }
   ],
   "source": [
    "from sklearn.model_selection import train_test_split\n",
    "import re \n",
    "import tensorflow as tf\n",
    "import numpy as np \n",
    "\n",
    "raw = []\n",
    "raw_corpus = [] \n",
    "for txt_file in txt_list:\n",
    "    with open(txt_file, \"r\") as f:\n",
    "        raw = f.read().splitlines()\n",
    "        raw_corpus.extend(raw)\n",
    "        \n",
    "\n",
    "def preprocess_sentence(sentence):\n",
    "    sentence = sentence.lower().strip()  # 소문자, 양쪽공백 제거\n",
    "    sentence = re.sub(r\"([?.!,¿])\", r\" \\1 \", sentence)  # 특수문자 양쪽에 공백을 추가\n",
    "    sentence = re.sub(r'[\" \"]+', \" \", sentence)  # 공백 패턴을 만나면 스페이스 1개로 치환\n",
    "    sentence = re.sub(r\"[^a-zA-Z?.!,¿]+\", \" \", sentence)  # 패턴을 제외한 모든 문자(공백문자까지도)를 스페이스 1개로 치환\n",
    "    sentence = sentence.strip()  # 양쪽 공백 제거\n",
    "    sentence = '<start> ' + sentence + ' <end>'\n",
    "    return sentence\n",
    "\n",
    "corpus = []  # 형태 : ['<start> i m begging of you please don t take my man <end>', ...] length - 175986\n",
    "for sentence in raw_corpus:\n",
    "    if len(sentence) == 0: continue\n",
    "    tmp = preprocess_sentence(sentence)\n",
    "    if len(tmp.split()) > 500: continue\n",
    "    corpus.append(tmp)\n",
    "\n",
    "    \n",
    "def tokenize(corpus):\n",
    "    # num_words:전체 단어의 개수, filters:별도로 전처리 로직을 추가, oov_token: out-of-vocabulary 사전에 없었던 단어는 어떤 토큰으로 대체할지\n",
    "    tokenizer = tf.keras.preprocessing.text.Tokenizer(num_words=12000, filters=' ', oov_token=\"<unk>\")\n",
    "    tokenizer.fit_on_texts(corpus)  # corpus로부터 Tokenizer가 사전을 자동구축\n",
    "    # tokenizer를 활용하여 모델에 입력할 데이터셋 구축(Tensor로 변환)\n",
    "    tensor = tokenizer.texts_to_sequences(corpus)\n",
    "    total_data_text = list(tensor)\n",
    "    num_tokens = [len(tokens) for tokens in total_data_text]\n",
    "    max_tokens = np.mean(num_tokens) + 2 * np.std(num_tokens)\n",
    "    maxlen = int(max_tokens)\n",
    "    # 입력 데이터 시퀀스 길이 맞춰주기 - padding\n",
    "    tensor = tf.keras.preprocessing.sequence.pad_sequences(tensor, padding='post', maxlen=maxlen)\n",
    "\n",
    "    return tensor, tokenizer\n",
    "\n",
    "\n",
    "\n",
    "tensor, tokenizer = tokenize(corpus)\n",
    "\n",
    "for idx, sentence in enumerate(raw_corpus):\n",
    "    if len(sentence) == 0: continue   # 길이가 0인 문장은 건너뜁니다.\n",
    "    if len(sentence) > 300: continue\n",
    "    if sentence[-1] == \":\": continue  # 문장의 끝이 : 인 문장은 건너뜁니다.\n",
    "        \n",
    "print(sentence[:10])\n",
    "\n",
    "src_input = tensor[:, :-1]  # tensor에서 마지막 토큰을 잘라내서 소스 문장을 생성. 마지막 토큰은 <end>가 아니라 <pad>일 가능성이 높다.\n",
    "tgt_input = tensor[:, 1:]  # tensor에서 <start>를 잘라내서 타겟 문장을 생성 -> 문장 길이는 14가 됨\n",
    "\n",
    "enc_train, enc_val, dec_train, dec_val = train_test_split(src_input, tgt_input, test_size=0.2, random_state=48)\n",
    "print(\"Source Train:\", enc_train.shape)  # (124960, 14)  # 현재 (124981, 14)\n",
    "print(\"Target Train:\", dec_train.shape)  # (124960, 14)"
   ]
  },
  {
   "cell_type": "code",
   "execution_count": 111,
   "id": "36caa751",
   "metadata": {},
   "outputs": [],
   "source": [
    "#Loss\n",
    "import matplotlib.pyplot as plt\n",
    "from tensorflow.keras.layers import Embedding,LSTM, GRU,SimpleRNN,  Dense\n",
    "\n",
    "def plot_curve(epochs, hist, list_of_metrics):\n",
    "    \n",
    "    fig, ax = plt.subplots(1,2,figsize = (12, 8))\n",
    "    \n",
    "    for i in range(len(ax)):\n",
    "        ax[i].set_xlabel('Epochs')\n",
    "        ax[i].set_ylabel('Value')\n",
    "        \n",
    "        for n in range(len(list_of_metrics)):\n",
    "            if i == 0:\n",
    "                y = hist[list_of_metrics[n]]\n",
    "                if n == 0:\n",
    "                    ax[i].plot(epochs, y, label=\"train\")\n",
    "                else:\n",
    "                    ax[i].plot(epochs, y, label=\"val\")\n",
    "                ax[i].set_title('Loss')\n",
    "                ax[i].legend(loc='upper right')\n",
    "                if n == 1:\n",
    "                    break\n",
    "            else:\n",
    "                if n >= 2:\n",
    "                    y = hist[list_of_metrics[n]]\n",
    "                    if n == 2:\n",
    "                        ax[i].plot(epochs, y, label=\"train\")\n",
    "                    else:\n",
    "                        ax[i].plot(epochs, y, label=\"val\")\n",
    "                    ax[i].set_title('Accuracy')\n",
    "                    ax[i].legend(loc='lower right')\n",
    "                    \n",
    "    plt.show()"
   ]
  },
  {
   "cell_type": "code",
   "execution_count": 112,
   "id": "035d99d0",
   "metadata": {},
   "outputs": [
    {
     "name": "stdout",
     "output_type": "stream",
     "text": [
      "Epoch 1/30\n",
      "147/147 [==============================] - 125s 504ms/step - loss: 2.9926 - val_loss: 2.5479\n",
      "Epoch 2/30\n",
      "147/147 [==============================] - 78s 529ms/step - loss: 2.3760 - val_loss: 2.4742\n",
      "Epoch 3/30\n",
      "147/147 [==============================] - 78s 529ms/step - loss: 2.1758 - val_loss: 2.4745\n",
      "Epoch 4/30\n",
      "147/147 [==============================] - 78s 531ms/step - loss: 1.9829 - val_loss: 2.5298\n",
      "Epoch 5/30\n",
      "147/147 [==============================] - 78s 531ms/step - loss: 1.7683 - val_loss: 2.5888\n",
      "Epoch 6/30\n",
      "147/147 [==============================] - 78s 531ms/step - loss: 1.5304 - val_loss: 2.7050\n",
      "Epoch 7/30\n",
      "147/147 [==============================] - 78s 531ms/step - loss: 1.2948 - val_loss: 2.8038\n",
      "Epoch 8/30\n",
      "147/147 [==============================] - 78s 531ms/step - loss: 1.1024 - val_loss: 2.8911\n",
      "Epoch 9/30\n",
      "147/147 [==============================] - 78s 531ms/step - loss: 0.9423 - val_loss: 2.9511\n",
      "Epoch 10/30\n",
      "147/147 [==============================] - 78s 530ms/step - loss: 0.8313 - val_loss: 3.0350\n",
      "Epoch 11/30\n",
      "147/147 [==============================] - 78s 530ms/step - loss: 0.7448 - val_loss: 3.0984\n",
      "Epoch 12/30\n",
      "147/147 [==============================] - 78s 530ms/step - loss: 0.6803 - val_loss: 3.1716\n",
      "Epoch 13/30\n",
      "147/147 [==============================] - 78s 529ms/step - loss: 0.6345 - val_loss: 3.2356\n",
      "Epoch 14/30\n",
      "147/147 [==============================] - 78s 530ms/step - loss: 0.6012 - val_loss: 3.2825\n",
      "Epoch 15/30\n",
      "147/147 [==============================] - 78s 530ms/step - loss: 0.5754 - val_loss: 3.2774\n",
      "Epoch 16/30\n",
      "147/147 [==============================] - 78s 529ms/step - loss: 0.5573 - val_loss: 3.3422\n",
      "Epoch 17/30\n",
      "147/147 [==============================] - 78s 529ms/step - loss: 0.5421 - val_loss: 3.3749\n",
      "Epoch 18/30\n",
      "147/147 [==============================] - 78s 530ms/step - loss: 0.5297 - val_loss: 3.4248\n",
      "Epoch 19/30\n",
      "147/147 [==============================] - 78s 530ms/step - loss: 0.5259 - val_loss: 3.3712\n",
      "Epoch 20/30\n",
      "147/147 [==============================] - 78s 530ms/step - loss: 0.5202 - val_loss: 3.4111\n",
      "Epoch 21/30\n",
      "147/147 [==============================] - 78s 530ms/step - loss: 0.5164 - val_loss: 3.4148\n",
      "Epoch 22/30\n",
      "147/147 [==============================] - 78s 530ms/step - loss: 0.5171 - val_loss: 3.4848\n",
      "Epoch 23/30\n",
      "147/147 [==============================] - 78s 530ms/step - loss: 0.5260 - val_loss: 3.5063\n",
      "Epoch 24/30\n",
      "147/147 [==============================] - 78s 531ms/step - loss: 0.5395 - val_loss: 3.5582\n",
      "Epoch 25/30\n",
      "147/147 [==============================] - 78s 530ms/step - loss: 0.5553 - val_loss: 3.5133\n",
      "Epoch 26/30\n",
      "147/147 [==============================] - 78s 530ms/step - loss: 0.5492 - val_loss: 3.5956\n",
      "Epoch 27/30\n",
      "147/147 [==============================] - 78s 530ms/step - loss: 0.5363 - val_loss: 3.6180\n",
      "Epoch 28/30\n",
      "147/147 [==============================] - 78s 530ms/step - loss: 0.5179 - val_loss: 3.6466\n",
      "Epoch 29/30\n",
      "147/147 [==============================] - 78s 530ms/step - loss: 0.5039 - val_loss: 3.6204\n",
      "Epoch 30/30\n",
      "147/147 [==============================] - 78s 531ms/step - loss: 0.4937 - val_loss: 3.7078\n"
     ]
    },
    {
     "data": {
      "image/png": "[encoded data removed]",
      "text/plain": [
       "<Figure size 864x576 with 2 Axes>"
      ]
     },
     "metadata": {
      "needs_background": "light"
     },
     "output_type": "display_data"
    }
   ],
   "source": [
    "class TextGenerator(tf.keras.Model):\n",
    "    def __init__(self, vocab_size, embedding_size, hidden_size):\n",
    "        super(TextGenerator, self).__init__()\n",
    "        self.rnn_0 = LSTM(hidden_size,return_sequences = True)\n",
    "        self.embedding = Embedding(vocab_size, embedding_size)\n",
    "        \n",
    "        self.rnn_1 = LSTM(hidden_size, return_sequences=True)\n",
    "        #self.rnn_2 = GRU(hidden_size,return_sequences = True)\n",
    "        self.rnn_3 = GRU(hidden_size, return_sequences=True)\n",
    "        self.rnn_4 = GRU(hidden_size, return_sequences=True)\n",
    "        self.rnn_3 = GRU(hidden_size,return_sequences = True)\n",
    "        self.linear = Dense(vocab_size)\n",
    "        \n",
    "    def call(self, x):\n",
    "       \n",
    "        out = self.embedding(x)\n",
    "        out = self.rnn_0(out)\n",
    "        out = self.rnn_1(out)\n",
    "        #out = self.rnn_2(out)\n",
    "        out = self.rnn_3(out)\n",
    "        out = self.rnn_4(out)\n",
    "        out = self.linear(out)\n",
    "        \n",
    "        return out\n",
    "\n",
    "history = []\n",
    "epochs = 30\n",
    "\n",
    "optimizer = tf.keras.optimizers.Adam()\n",
    "\n",
    "loss = tf.keras.losses.SparseCategoricalCrossentropy(\n",
    "    from_logits=True,\n",
    "    reduction='none'\n",
    ")\n",
    "\n",
    "embedding_size = 1500\n",
    "hidden_size = 2500\n",
    "\n",
    "\n",
    "model = TextGenerator(tokenizer.num_words + 1, embedding_size , hidden_size)\n",
    "model.compile(loss=loss, optimizer=optimizer)\n",
    "\n",
    "history = model.fit(enc_train, \n",
    "          dec_train, \n",
    "          epochs=epochs,\n",
    "          batch_size=50,\n",
    "          validation_data=(enc_val, dec_val),\n",
    "          verbose=1)\n",
    "    \n",
    "\n",
    "\n",
    "loss = tf.keras.losses.SparseCategoricalCrossentropy(\n",
    "    from_logits=True, reduction='none')\n",
    "\n",
    "plot_curve(history.epoch, history.history, ['loss', 'val_loss'])\n",
    "\n",
    "def generate_text(model, tokenizer, init_sentence=\"<start>\", max_len=300):\n",
    "    # 테스트를 위해서 입력받은 init_sentence도 일단 텐서로 변환합니다.\n",
    "    test_input = tokenizer.texts_to_sequences([init_sentence])\n",
    "    test_tensor = tf.convert_to_tensor(test_input, dtype=tf.int64)\n",
    "    end_token = tokenizer.word_index[\"<end>\"]\n",
    "\n",
    "    # 텍스트를 실제로 생성할때는 루프를 돌면서 단어 하나씩 생성해야 합니다. \n",
    "    while True:\n",
    "        predict = model(test_tensor)  # 입력받은 문장의 텐서를 입력합니다. \n",
    "        predict_word = tf.argmax(tf.nn.softmax(predict, axis=-1), axis=-1)[:, -1]   # 우리 모델이 예측한 마지막 단어가 바로 새롭게 생성한 단어가 됩니다. \n",
    "\n",
    "        # 우리 모델이 새롭게 예측한 단어를 입력 문장의 뒤에 붙여 줍니다. \n",
    "        test_tensor = tf.concat([test_tensor, tf.expand_dims(predict_word, axis=0)], axis=-1)\n",
    "\n",
    "        # 우리 모델이 <END>를 예측하지 않았거나, max_len에 도달하지 않았다면  while 루프를 또 돌면서 다음 단어를 예측해야 합니다.\n",
    "        if predict_word.numpy()[0] == end_token: break\n",
    "        if test_tensor.shape[1] >= max_len: break\n",
    "\n",
    "    generated = \"\"\n",
    "    # 생성된 tensor 안에 있는 word index를 tokenizer.index_word 사전을 통해 실제 단어로 하나씩 변환합니다. \n",
    "    for word_index in test_tensor[0].numpy():\n",
    "        generated += tokenizer.index_word[word_index] + \" \"\n",
    "\n",
    "    return generated "
   ]
  },
  {
   "cell_type": "code",
   "execution_count": 113,
   "id": "d0c2aae7",
   "metadata": {},
   "outputs": [
    {
     "data": {
      "text/plain": [
       "'<start> i . transito <end> '"
      ]
     },
     "execution_count": 113,
     "metadata": {},
     "output_type": "execute_result"
    }
   ],
   "source": [
    "def generate_text(model, tokenizer, init_sentence=\"<start>\", max_len=300):\n",
    "    # 테스트를 위해서 입력받은 init_sentence도 일단 텐서로 변환합니다.\n",
    "    test_input = tokenizer.texts_to_sequences([init_sentence])\n",
    "    test_tensor = tf.convert_to_tensor(test_input, dtype=tf.int64)\n",
    "    end_token = tokenizer.word_index[\"<end>\"]\n",
    "\n",
    "    # 텍스트를 실제로 생성할때는 루프를 돌면서 단어 하나씩 생성해야 합니다. \n",
    "    while True:\n",
    "        predict = model(test_tensor)  # 입력받은 문장의 텐서를 입력합니다. \n",
    "        predict_word = tf.argmax(tf.nn.softmax(predict, axis=-1), axis=-1)[:, -1]   # 우리 모델이 예측한 마지막 단어가 바로 새롭게 생성한 단어가 됩니다. \n",
    "\n",
    "        # 우리 모델이 새롭게 예측한 단어를 입력 문장의 뒤에 붙여 줍니다. \n",
    "        test_tensor = tf.concat([test_tensor, tf.expand_dims(predict_word, axis=0)], axis=-1)\n",
    "        # 우리 모델이 <END>를 예측하지 않았거나, max_len에 도달하지 않았다면  while 루프를 또 돌면서 다음 단어를 예측해야 합니다.\n",
    "        if predict_word.numpy()[0] == end_token: break\n",
    "        if test_tensor.shape[1] >= max_len: break\n",
    "\n",
    "    generated = \"\"\n",
    "    # 생성된 tensor 안에 있는 word index를 tokenizer.index_word 사전을 통해 실제 단어로 하나씩 변환합니다. \n",
    "    for word_index in test_tensor[0].numpy():\n",
    "        generated += tokenizer.index_word[word_index] + \" \"\n",
    "\n",
    "    return generated   # 이것이 최종적으로 모델이 생성한 자연어 문장입니다.\n",
    "\n",
    "\n",
    "generate_text(model, tokenizer, init_sentence=\"<start> I \", max_len=100)"
   ]
  },
  {
   "cell_type": "code",
   "execution_count": 115,
   "id": "562741ee",
   "metadata": {},
   "outputs": [
    {
     "data": {
      "text/plain": [
       "'<start> object by numerous mesoamerican cultures whose <end> '"
      ]
     },
     "execution_count": 115,
     "metadata": {},
     "output_type": "execute_result"
    }
   ],
   "source": [
    "generate_text(model, tokenizer, init_sentence=\"<start> object \", max_len=300)"
   ]
  },
  {
   "cell_type": "code",
   "execution_count": 116,
   "id": "32ede924",
   "metadata": {},
   "outputs": [
    {
     "data": {
      "text/plain": [
       "'<start> deny that the individuals of social appearing <end> '"
      ]
     },
     "execution_count": 116,
     "metadata": {},
     "output_type": "execute_result"
    }
   ],
   "source": [
    "generate_text(model, tokenizer, init_sentence=\"<start> deny that \", max_len=100)"
   ]
  },
  {
   "cell_type": "code",
   "execution_count": 117,
   "id": "244ad556",
   "metadata": {},
   "outputs": [
    {
     "data": {
      "text/plain": [
       "'<start> get <unk> . as the most hand , if each <end> '"
      ]
     },
     "execution_count": 117,
     "metadata": {},
     "output_type": "execute_result"
    }
   ],
   "source": [
    "generate_text(model, tokenizer, init_sentence=\"<start> get boy \", max_len=300)"
   ]
  },
  {
   "cell_type": "code",
   "execution_count": 118,
   "id": "f6fb1b25",
   "metadata": {},
   "outputs": [
    {
     "data": {
      "text/plain": [
       "'<start> <unk> a postglacial rise , and level , and <end> '"
      ]
     },
     "execution_count": 118,
     "metadata": {},
     "output_type": "execute_result"
    }
   ],
   "source": [
    "generate_text(model, tokenizer, init_sentence=\"<start> I'm a \", max_len=300)"
   ]
  },
  {
   "cell_type": "code",
   "execution_count": 119,
   "id": "be3e8a8b",
   "metadata": {},
   "outputs": [
    {
     "data": {
      "text/plain": [
       "'<start> why does mars have such a thin atmosphere ? <end> '"
      ]
     },
     "execution_count": 119,
     "metadata": {},
     "output_type": "execute_result"
    }
   ],
   "source": [
    "generate_text(model, tokenizer, init_sentence=\"<start> why \", max_len=300)"
   ]
  },
  {
   "cell_type": "code",
   "execution_count": 120,
   "id": "f70f159c",
   "metadata": {},
   "outputs": [
    {
     "data": {
      "text/plain": [
       "'<start> argue that pillow lava is characterized by <end> '"
      ]
     },
     "execution_count": 120,
     "metadata": {},
     "output_type": "execute_result"
    }
   ],
   "source": [
    "generate_text(model, tokenizer, init_sentence=\"<start> argue \", max_len=300)"
   ]
  },
  {
   "cell_type": "code",
   "execution_count": 121,
   "id": "01958547",
   "metadata": {},
   "outputs": [
    {
     "data": {
      "text/plain": [
       "'<start> i argue of a public poised , one hand <end> '"
      ]
     },
     "execution_count": 121,
     "metadata": {},
     "output_type": "execute_result"
    }
   ],
   "source": [
    "generate_text(model, tokenizer, init_sentence=\"<start> I argue \", max_len=300)"
   ]
  },
  {
   "cell_type": "code",
   "execution_count": 122,
   "id": "e05dc53a",
   "metadata": {},
   "outputs": [
    {
     "data": {
      "text/plain": [
       "'<start> argue that pillow lava is characterized by <end> '"
      ]
     },
     "execution_count": 122,
     "metadata": {},
     "output_type": "execute_result"
    }
   ],
   "source": [
    "generate_text(model, tokenizer, init_sentence=\"<start>  argue that \", max_len=300)"
   ]
  },
  {
   "cell_type": "code",
   "execution_count": 123,
   "id": "3471ff87",
   "metadata": {},
   "outputs": [
    {
     "data": {
      "text/plain": [
       "'<start> gain clause . <end> '"
      ]
     },
     "execution_count": 123,
     "metadata": {},
     "output_type": "execute_result"
    }
   ],
   "source": [
    "generate_text(model, tokenizer, init_sentence=\"<start>  gain \", max_len=600)"
   ]
  },
  {
   "cell_type": "code",
   "execution_count": 124,
   "id": "0483a89d",
   "metadata": {},
   "outputs": [
    {
     "data": {
      "text/plain": [
       "'<start> must have traveled from the southwestern <end> '"
      ]
     },
     "execution_count": 124,
     "metadata": {},
     "output_type": "execute_result"
    }
   ],
   "source": [
    "generate_text(model, tokenizer, init_sentence=\"<start> must \", max_len=600)"
   ]
  },
  {
   "cell_type": "code",
   "execution_count": 125,
   "id": "a86b706b",
   "metadata": {},
   "outputs": [
    {
     "data": {
      "text/plain": [
       "'<start> must be probably be true ? <end> '"
      ]
     },
     "execution_count": 125,
     "metadata": {},
     "output_type": "execute_result"
    }
   ],
   "source": [
    "generate_text(model, tokenizer, init_sentence=\"<start>  must be \", max_len=600)"
   ]
  },
  {
   "cell_type": "code",
   "execution_count": 126,
   "id": "507af143",
   "metadata": {},
   "outputs": [
    {
     "data": {
      "text/plain": [
       "'<start> stress the government of persuasive and declamatory <end> '"
      ]
     },
     "execution_count": 126,
     "metadata": {},
     "output_type": "execute_result"
    }
   ],
   "source": [
    "generate_text(model, tokenizer, init_sentence=\"<start> stress \", max_len=600)"
   ]
  },
  {
   "cell_type": "code",
   "execution_count": 127,
   "id": "4d8730f9",
   "metadata": {},
   "outputs": [
    {
     "data": {
      "text/plain": [
       "'<start> state they merely control it . their suspicions <end> '"
      ]
     },
     "execution_count": 127,
     "metadata": {},
     "output_type": "execute_result"
    }
   ],
   "source": [
    "generate_text(model, tokenizer, init_sentence=\"<start> state \", max_len=600)"
   ]
  },
  {
   "cell_type": "code",
   "execution_count": 128,
   "id": "56d4e66e",
   "metadata": {},
   "outputs": [
    {
     "data": {
      "text/plain": [
       "'<start> following about the widespread assumption ? <end> '"
      ]
     },
     "execution_count": 128,
     "metadata": {},
     "output_type": "execute_result"
    }
   ],
   "source": [
    "generate_text(model, tokenizer, init_sentence=\"<start> following \", max_len=600)"
   ]
  },
  {
   "cell_type": "code",
   "execution_count": 129,
   "id": "d2647289",
   "metadata": {},
   "outputs": [
    {
     "data": {
      "text/plain": [
       "'<start> a . a surfeit of <end> '"
      ]
     },
     "execution_count": 129,
     "metadata": {},
     "output_type": "execute_result"
    }
   ],
   "source": [
    "generate_text(model, tokenizer, init_sentence=\"<start> a \", max_len=600)"
   ]
  },
  {
   "cell_type": "code",
   "execution_count": 130,
   "id": "25998624",
   "metadata": {},
   "outputs": [
    {
     "data": {
      "text/plain": [
       "'<start> b . it explains why a previous claim about sleep and <end> '"
      ]
     },
     "execution_count": 130,
     "metadata": {},
     "output_type": "execute_result"
    }
   ],
   "source": [
    "generate_text(model, tokenizer, init_sentence=\"<start> b \", max_len=600)"
   ]
  },
  {
   "cell_type": "code",
   "execution_count": 131,
   "id": "8e070f77",
   "metadata": {},
   "outputs": [
    {
     "data": {
      "text/plain": [
       "'<start> woman than the principle of equal <end> '"
      ]
     },
     "execution_count": 131,
     "metadata": {},
     "output_type": "execute_result"
    }
   ],
   "source": [
    "generate_text(model, tokenizer, init_sentence=\"<start> woman \", max_len=600)"
   ]
  },
  {
   "cell_type": "code",
   "execution_count": 132,
   "id": "0103d5d8",
   "metadata": {},
   "outputs": [
    {
     "data": {
      "text/plain": [
       "'<start> right . <end> '"
      ]
     },
     "execution_count": 132,
     "metadata": {},
     "output_type": "execute_result"
    }
   ],
   "source": [
    "generate_text(model, tokenizer, init_sentence=\"<start> right \", max_len=600)"
   ]
  },
  {
   "cell_type": "code",
   "execution_count": 133,
   "id": "eead401e",
   "metadata": {},
   "outputs": [
    {
     "data": {
      "text/plain": [
       "'<start> he says . <end> '"
      ]
     },
     "execution_count": 133,
     "metadata": {},
     "output_type": "execute_result"
    }
   ],
   "source": [
    "generate_text(model, tokenizer, init_sentence=\"<start> he says \", max_len=600)"
   ]
  },
  {
   "cell_type": "code",
   "execution_count": 134,
   "id": "e6387416",
   "metadata": {},
   "outputs": [
    {
     "data": {
      "text/plain": [
       "'<start> <unk> by these military reverses as the <end> '"
      ]
     },
     "execution_count": 134,
     "metadata": {},
     "output_type": "execute_result"
    }
   ],
   "source": [
    "generate_text(model, tokenizer, init_sentence=\"<start> father \", max_len=600)"
   ]
  },
  {
   "cell_type": "code",
   "execution_count": 135,
   "id": "1949ac24",
   "metadata": {},
   "outputs": [
    {
     "data": {
      "text/plain": [
       "'<start> god s judgment of humans recent destruction of <end> '"
      ]
     },
     "execution_count": 135,
     "metadata": {},
     "output_type": "execute_result"
    }
   ],
   "source": [
    "generate_text(model, tokenizer, init_sentence=\"<start> god \", max_len=600)"
   ]
  },
  {
   "cell_type": "code",
   "execution_count": 136,
   "id": "5f96aad1",
   "metadata": {},
   "outputs": [
    {
     "data": {
      "text/plain": [
       "'<start> way in parts of the ocean where algae <end> '"
      ]
     },
     "execution_count": 136,
     "metadata": {},
     "output_type": "execute_result"
    }
   ],
   "source": [
    "generate_text(model, tokenizer, init_sentence=\"<start> way  \", max_len=600)"
   ]
  },
  {
   "cell_type": "code",
   "execution_count": 137,
   "id": "b26b8795",
   "metadata": {},
   "outputs": [
    {
     "data": {
      "text/plain": [
       "'<start> ocean s surface decreases . <end> '"
      ]
     },
     "execution_count": 137,
     "metadata": {},
     "output_type": "execute_result"
    }
   ],
   "source": [
    "generate_text(model, tokenizer, init_sentence=\"<start> ocean \", max_len=600)"
   ]
  },
  {
   "cell_type": "code",
   "execution_count": 138,
   "id": "39100803",
   "metadata": {},
   "outputs": [
    {
     "data": {
      "text/plain": [
       "'<start> <unk> by these military reverses as the <end> '"
      ]
     },
     "execution_count": 138,
     "metadata": {},
     "output_type": "execute_result"
    }
   ],
   "source": [
    "generate_text(model, tokenizer, init_sentence=\"<start> stock \", max_len=600)"
   ]
  },
  {
   "cell_type": "code",
   "execution_count": null,
   "id": "b0e17c90",
   "metadata": {},
   "outputs": [],
   "source": []
  }
 ],
 "metadata": {
  "kernelspec": {
   "display_name": "Python 3 (ipykernel)",
   "language": "python",
   "name": "python3"
  },
  "language_info": {
   "codemirror_mode": {
    "name": "ipython",
    "version": 3
   },
   "file_extension": ".py",
   "mimetype": "text/x-python",
   "name": "python",
   "nbconvert_exporter": "python",
   "pygments_lexer": "ipython3",
   "version": "3.9.7"
  }
 },
 "nbformat": 4,
 "nbformat_minor": 5
}
