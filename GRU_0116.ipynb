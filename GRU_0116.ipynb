{
 "cells": [
  {
   "cell_type": "code",
   "execution_count": 3,
   "id": "549327de",
   "metadata": {},
   "outputs": [
    {
     "name": "stdout",
     "output_type": "stream",
     "text": [
      "데이터 크기: 187088\n",
      "Examples:\n",
      " [\"Now I've heard there was a secret chord\", 'That David played, and it pleased the Lord', \"But you don't really care for music, do you?\"]\n"
     ]
    }
   ],
   "source": [
    "import glob\n",
    "import os\n",
    "\n",
    "txt_file_path = os.getenv('HOME')+'/aiffel/lyricist/data/lyrics/*'\n",
    "\n",
    "txt_list = glob.glob(txt_file_path)\n",
    "\n",
    "raw_corpus = []\n",
    "\n",
    "# 여러개의 txt 파일을 모두 읽어서 raw_corpus 에 담습니다.\n",
    "for txt_file in txt_list:\n",
    "    with open(txt_file, \"r\") as f:\n",
    "        raw = f.read().splitlines()\n",
    "        raw_corpus.extend(raw)\n",
    "\n",
    "print(\"데이터 크기:\", len(raw_corpus))\n",
    "print(\"Examples:\\n\", raw_corpus[:3])"
   ]
  },
  {
   "cell_type": "code",
   "execution_count": 4,
   "id": "bd83939a",
   "metadata": {},
   "outputs": [
    {
     "name": "stdout",
     "output_type": "stream",
     "text": [
      "You know, \n",
      "Source Train: (135828, 16)\n",
      "Target Train: (135828, 16)\n"
     ]
    }
   ],
   "source": [
    "from sklearn.model_selection import train_test_split\n",
    "import re \n",
    "import tensorflow as tf\n",
    "import numpy as np \n",
    "\n",
    "raw = []\n",
    "raw_corpus = [] \n",
    "for txt_file in txt_list:\n",
    "    with open(txt_file, \"r\") as f:\n",
    "        raw = f.read().splitlines()\n",
    "        raw_corpus.extend(raw)\n",
    "        \n",
    "\n",
    "def preprocess_sentence(sentence):\n",
    "    sentence = sentence.lower().strip()  # 소문자, 양쪽공백 제거\n",
    "    sentence = re.sub(r\"([?.!,¿])\", r\" \\1 \", sentence)  # 특수문자 양쪽에 공백을 추가\n",
    "    sentence = re.sub(r'[\" \"]+', \" \", sentence)  # 공백 패턴을 만나면 스페이스 1개로 치환\n",
    "    sentence = re.sub(r\"[^a-zA-Z?.!,¿]+\", \" \", sentence)  # 패턴을 제외한 모든 문자(공백문자까지도)를 스페이스 1개로 치환\n",
    "    sentence = sentence.strip()  # 양쪽 공백 제거\n",
    "    sentence = '<start> ' + sentence + ' <end>'\n",
    "    return sentence\n",
    "\n",
    "corpus = []  # 형태 : ['<start> i m begging of you please don t take my man <end>', ...] length - 175986\n",
    "for sentence in raw_corpus:\n",
    "    if len(sentence) == 0: continue\n",
    "    tmp = preprocess_sentence(sentence)\n",
    "    if len(tmp.split()) > 20: continue\n",
    "    corpus.append(tmp)\n",
    "\n",
    "    \n",
    "def tokenize(corpus):\n",
    "    # num_words:전체 단어의 개수, filters:별도로 전처리 로직을 추가, oov_token: out-of-vocabulary 사전에 없었던 단어는 어떤 토큰으로 대체할지\n",
    "    tokenizer = tf.keras.preprocessing.text.Tokenizer(num_words=12000, filters=' ', oov_token=\"<unk>\")\n",
    "    tokenizer.fit_on_texts(corpus)  # corpus로부터 Tokenizer가 사전을 자동구축\n",
    "    # tokenizer를 활용하여 모델에 입력할 데이터셋 구축(Tensor로 변환)\n",
    "    tensor = tokenizer.texts_to_sequences(corpus)\n",
    "    total_data_text = list(tensor)\n",
    "    num_tokens = [len(tokens) for tokens in total_data_text]\n",
    "    max_tokens = np.mean(num_tokens) + 2 * np.std(num_tokens)\n",
    "    maxlen = int(max_tokens)\n",
    "    # 입력 데이터 시퀀스 길이 맞춰주기 - padding\n",
    "    tensor = tf.keras.preprocessing.sequence.pad_sequences(tensor, padding='post', maxlen=maxlen)\n",
    "\n",
    "    return tensor, tokenizer\n",
    "\n",
    "\n",
    "\n",
    "tensor, tokenizer = tokenize(corpus)\n",
    "\n",
    "for idx, sentence in enumerate(raw_corpus):\n",
    "    if len(sentence) == 0: continue   # 길이가 0인 문장은 건너뜁니다.\n",
    "    if len(sentence) > 15: continue\n",
    "    if sentence[-1] == \":\": continue  # 문장의 끝이 : 인 문장은 건너뜁니다.\n",
    "        \n",
    "print(sentence[:10])\n",
    "\n",
    "src_input = tensor[:, :-1]  # tensor에서 마지막 토큰을 잘라내서 소스 문장을 생성. 마지막 토큰은 <end>가 아니라 <pad>일 가능성이 높다.\n",
    "tgt_input = tensor[:, 1:]  # tensor에서 <start>를 잘라내서 타겟 문장을 생성 -> 문장 길이는 14가 됨\n",
    "\n",
    "enc_train, enc_val, dec_train, dec_val = train_test_split(src_input, tgt_input, test_size=0.2, random_state=48)\n",
    "print(\"Source Train:\", enc_train.shape)  # (124960, 14)  # 현재 (124981, 14)\n",
    "print(\"Target Train:\", dec_train.shape)  # (124960, 14)"
   ]
  },
  {
   "cell_type": "code",
   "execution_count": 5,
   "id": "b230ec8c",
   "metadata": {},
   "outputs": [],
   "source": [
    "#Loss\n",
    "import matplotlib.pyplot as plt\n",
    "from tensorflow.keras.layers import Embedding,LSTM, GRU,SimpleRNN,  Dense\n",
    "\n",
    "def plot_curve(epochs, hist, list_of_metrics):\n",
    "    \n",
    "    fig, ax = plt.subplots(1,2,figsize = (12, 8))\n",
    "    \n",
    "    for i in range(len(ax)):\n",
    "        ax[i].set_xlabel('Epochs')\n",
    "        ax[i].set_ylabel('Value')\n",
    "        \n",
    "        for n in range(len(list_of_metrics)):\n",
    "            if i == 0:\n",
    "                y = hist[list_of_metrics[n]]\n",
    "                if n == 0:\n",
    "                    ax[i].plot(epochs, y, label=\"train\")\n",
    "                else:\n",
    "                    ax[i].plot(epochs, y, label=\"val\")\n",
    "                ax[i].set_title('Loss')\n",
    "                ax[i].legend(loc='upper right')\n",
    "                if n == 1:\n",
    "                    break\n",
    "            else:\n",
    "                if n >= 2:\n",
    "                    y = hist[list_of_metrics[n]]\n",
    "                    if n == 2:\n",
    "                        ax[i].plot(epochs, y, label=\"train\")\n",
    "                    else:\n",
    "                        ax[i].plot(epochs, y, label=\"val\")\n",
    "                    ax[i].set_title('Accuracy')\n",
    "                    ax[i].legend(loc='lower right')\n",
    "                    \n",
    "    plt.show()\n",
    "    "
   ]
  },
  {
   "cell_type": "code",
   "execution_count": 6,
   "id": "fd317cf4",
   "metadata": {},
   "outputs": [
    {
     "name": "stdout",
     "output_type": "stream",
     "text": [
      "Epoch 1/3\n",
      "4528/4528 [==============================] - 2950s 608ms/step - loss: 2.5952 - val_loss: 2.3019\n",
      "Epoch 2/3\n",
      "4528/4528 [==============================] - 2756s 609ms/step - loss: 2.0063 - val_loss: 2.1147\n",
      "Epoch 3/3\n",
      "4528/4528 [==============================] - 2758s 609ms/step - loss: 1.6376 - val_loss: 2.0707\n"
     ]
    },
    {
     "data": {
      "image/png": "[encoded data removed]",
      "text/plain": [
       "<Figure size 864x576 with 2 Axes>"
      ]
     },
     "metadata": {
      "needs_background": "light"
     },
     "output_type": "display_data"
    }
   ],
   "source": [
    "class TextGenerator(tf.keras.Model):\n",
    "    def __init__(self, vocab_size, embedding_size, hidden_size):\n",
    "        super(TextGenerator, self).__init__()\n",
    "        self.rnn_0 = LSTM(hidden_size,return_sequences = True)\n",
    "        self.embedding = Embedding(vocab_size, embedding_size)\n",
    "        self.rnn_1 = GRU(hidden_size, return_sequences=True)\n",
    "        #self.rnn_2 = GRU(hidden_size,return_sequences = True)\n",
    "        #self.rnn_3 = GRU(hidden_size, return_sequences=True)\n",
    "        #self.rnn_4 = GRU(hidden_size, return_sequences=True)\n",
    "        self.rnn_3 = GRU(hidden_size,return_sequences = True)\n",
    "        self.linear = Dense(vocab_size)\n",
    "        \n",
    "    def call(self, x):\n",
    "       \n",
    "        out = self.embedding(x)\n",
    "        out = self.rnn_0(out)\n",
    "        out = self.rnn_1(out)\n",
    "        #out = self.rnn_2(out)\n",
    "        #out = self.rnn_3(out)\n",
    "        #out = self.rnn_4(out)\n",
    "        out = self.linear(out)\n",
    "        \n",
    "        return out\n",
    "\n",
    "history = []\n",
    "epochs = 3\n",
    "\n",
    "optimizer = tf.keras.optimizers.Adam()\n",
    "\n",
    "loss = tf.keras.losses.SparseCategoricalCrossentropy(\n",
    "    from_logits=True,\n",
    "    reduction='none'\n",
    ")\n",
    "\n",
    "embedding_size = 5000\n",
    "hidden_size = 5000\n",
    "\n",
    "\n",
    "model = TextGenerator(tokenizer.num_words + 1, embedding_size , hidden_size)\n",
    "model.compile(loss=loss, optimizer=optimizer)\n",
    "\n",
    "history = model.fit(enc_train, \n",
    "          dec_train, \n",
    "          epochs=epochs,\n",
    "          batch_size=30,\n",
    "          validation_data=(enc_val, dec_val),\n",
    "          verbose=1)\n",
    "    \n",
    "\n",
    "\n",
    "loss = tf.keras.losses.SparseCategoricalCrossentropy(\n",
    "    from_logits=True, reduction='none')\n",
    "\n",
    "plot_curve(history.epoch, history.history, ['loss', 'val_loss'])\n",
    "\n",
    "def generate_text(model, tokenizer, init_sentence=\"<start>\", max_len=40):\n",
    "    # 테스트를 위해서 입력받은 init_sentence도 일단 텐서로 변환합니다.\n",
    "    test_input = tokenizer.texts_to_sequences([init_sentence])\n",
    "    test_tensor = tf.convert_to_tensor(test_input, dtype=tf.int64)\n",
    "    end_token = tokenizer.word_index[\"<end>\"]\n",
    "\n",
    "    # 텍스트를 실제로 생성할때는 루프를 돌면서 단어 하나씩 생성해야 합니다. \n",
    "    while True:\n",
    "        predict = model(test_tensor)  # 입력받은 문장의 텐서를 입력합니다. \n",
    "        predict_word = tf.argmax(tf.nn.softmax(predict, axis=-1), axis=-1)[:, -1]   # 우리 모델이 예측한 마지막 단어가 바로 새롭게 생성한 단어가 됩니다. \n",
    "\n",
    "        # 우리 모델이 새롭게 예측한 단어를 입력 문장의 뒤에 붙여 줍니다. \n",
    "        test_tensor = tf.concat([test_tensor, tf.expand_dims(predict_word, axis=0)], axis=-1)\n",
    "\n",
    "        # 우리 모델이 <END>를 예측하지 않았거나, max_len에 도달하지 않았다면  while 루프를 또 돌면서 다음 단어를 예측해야 합니다.\n",
    "        if predict_word.numpy()[0] == end_token: break\n",
    "        if test_tensor.shape[1] >= max_len: break\n",
    "\n",
    "    generated = \"\"\n",
    "    # 생성된 tensor 안에 있는 word index를 tokenizer.index_word 사전을 통해 실제 단어로 하나씩 변환합니다. \n",
    "    for word_index in test_tensor[0].numpy():\n",
    "        generated += tokenizer.index_word[word_index] + \" \"\n",
    "\n",
    "    return generated "
   ]
  },
  {
   "cell_type": "code",
   "execution_count": 7,
   "id": "298881bd",
   "metadata": {},
   "outputs": [
    {
     "data": {
      "text/plain": [
       "'<start> i m a bad bitch , no , no , no , no <end> '"
      ]
     },
     "execution_count": 7,
     "metadata": {},
     "output_type": "execute_result"
    }
   ],
   "source": [
    "\n",
    "def generate_text(model, tokenizer, init_sentence=\"<start>\", max_len=20):\n",
    "    # 테스트를 위해서 입력받은 init_sentence도 일단 텐서로 변환합니다.\n",
    "    test_input = tokenizer.texts_to_sequences([init_sentence])\n",
    "    test_tensor = tf.convert_to_tensor(test_input, dtype=tf.int64)\n",
    "    end_token = tokenizer.word_index[\"<end>\"]\n",
    "\n",
    "    # 텍스트를 실제로 생성할때는 루프를 돌면서 단어 하나씩 생성해야 합니다. \n",
    "    while True:\n",
    "        predict = model(test_tensor)  # 입력받은 문장의 텐서를 입력합니다. \n",
    "        predict_word = tf.argmax(tf.nn.softmax(predict, axis=-1), axis=-1)[:, -1]   # 우리 모델이 예측한 마지막 단어가 바로 새롭게 생성한 단어가 됩니다. \n",
    "\n",
    "        # 우리 모델이 새롭게 예측한 단어를 입력 문장의 뒤에 붙여 줍니다. \n",
    "        test_tensor = tf.concat([test_tensor, tf.expand_dims(predict_word, axis=0)], axis=-1)\n",
    "        # 우리 모델이 <END>를 예측하지 않았거나, max_len에 도달하지 않았다면  while 루프를 또 돌면서 다음 단어를 예측해야 합니다.\n",
    "        if predict_word.numpy()[0] == end_token: break\n",
    "        if test_tensor.shape[1] >= max_len: break\n",
    "\n",
    "    generated = \"\"\n",
    "    # 생성된 tensor 안에 있는 word index를 tokenizer.index_word 사전을 통해 실제 단어로 하나씩 변환합니다. \n",
    "    for word_index in test_tensor[0].numpy():\n",
    "        generated += tokenizer.index_word[word_index] + \" \"\n",
    "\n",
    "    return generated   # 이것이 최종적으로 모델이 생성한 자연어 문장입니다.\n",
    "\n",
    "\n",
    "generate_text(model, tokenizer, init_sentence=\"<start> I \", max_len=20)"
   ]
  },
  {
   "cell_type": "code",
   "execution_count": 8,
   "id": "32066375",
   "metadata": {},
   "outputs": [
    {
     "data": {
      "text/plain": [
       "'<start> object to the <unk> <end> '"
      ]
     },
     "execution_count": 8,
     "metadata": {},
     "output_type": "execute_result"
    }
   ],
   "source": [
    "generate_text(model, tokenizer, init_sentence=\"<start> object \", max_len=300)"
   ]
  },
  {
   "cell_type": "code",
   "execution_count": 9,
   "id": "886d327d",
   "metadata": {},
   "outputs": [
    {
     "data": {
      "text/plain": [
       "'<start> deny that i m a boss <end> '"
      ]
     },
     "execution_count": 9,
     "metadata": {},
     "output_type": "execute_result"
    }
   ],
   "source": [
    "generate_text(model, tokenizer, init_sentence=\"<start> deny that \", max_len=300)"
   ]
  },
  {
   "cell_type": "code",
   "execution_count": 10,
   "id": "257b0f1d",
   "metadata": {},
   "outputs": [
    {
     "data": {
      "text/plain": [
       "'<start> so that s why i m like like a <unk> <end> '"
      ]
     },
     "execution_count": 10,
     "metadata": {},
     "output_type": "execute_result"
    }
   ],
   "source": [
    "generate_text(model, tokenizer, init_sentence=\"<start> so that \", max_len=300)"
   ]
  },
  {
   "cell_type": "code",
   "execution_count": 11,
   "id": "e901f52e",
   "metadata": {},
   "outputs": [
    {
     "data": {
      "text/plain": [
       "'<start> i love you so , so , i do <end> '"
      ]
     },
     "execution_count": 11,
     "metadata": {},
     "output_type": "execute_result"
    }
   ],
   "source": [
    "generate_text(model, tokenizer, init_sentence=\"<start> I love \", max_len=300)"
   ]
  },
  {
   "cell_type": "code",
   "execution_count": 12,
   "id": "0143450a",
   "metadata": {},
   "outputs": [
    {
     "data": {
      "text/plain": [
       "'<start> i love you so , so , i do <end> '"
      ]
     },
     "execution_count": 12,
     "metadata": {},
     "output_type": "execute_result"
    }
   ],
   "source": [
    "generate_text(model, tokenizer, init_sentence=\"<start> I love \", max_len=300)"
   ]
  },
  {
   "cell_type": "code",
   "execution_count": 13,
   "id": "2e5b6d60",
   "metadata": {},
   "outputs": [
    {
     "data": {
      "text/plain": [
       "'<start> i think that you re going to have a good time <end> '"
      ]
     },
     "execution_count": 13,
     "metadata": {},
     "output_type": "execute_result"
    }
   ],
   "source": [
    "generate_text(model, tokenizer, init_sentence=\"<start> I think that \", max_len=300)"
   ]
  },
  {
   "cell_type": "code",
   "execution_count": 14,
   "id": "b697a99b",
   "metadata": {},
   "outputs": [
    {
     "data": {
      "text/plain": [
       "'<start> good morning <end> '"
      ]
     },
     "execution_count": 14,
     "metadata": {},
     "output_type": "execute_result"
    }
   ],
   "source": [
    "generate_text(model, tokenizer, init_sentence=\"<start> good \", max_len=300)"
   ]
  },
  {
   "cell_type": "code",
   "execution_count": 15,
   "id": "580c39cd",
   "metadata": {},
   "outputs": [
    {
     "data": {
      "text/plain": [
       "'<start> so bad , coulda thought i owed a owed <end> '"
      ]
     },
     "execution_count": 15,
     "metadata": {},
     "output_type": "execute_result"
    }
   ],
   "source": [
    "generate_text(model, tokenizer, init_sentence=\"<start> so bad \", max_len=300)"
   ]
  },
  {
   "cell_type": "code",
   "execution_count": 16,
   "id": "b5c2ad85",
   "metadata": {},
   "outputs": [
    {
     "data": {
      "text/plain": [
       "'<start> get boy , get out the way <end> '"
      ]
     },
     "execution_count": 16,
     "metadata": {},
     "output_type": "execute_result"
    }
   ],
   "source": [
    "generate_text(model, tokenizer, init_sentence=\"<start> get boy \", max_len=300)"
   ]
  },
  {
   "cell_type": "code",
   "execution_count": 17,
   "id": "9a5944b6",
   "metadata": {},
   "outputs": [
    {
     "data": {
      "text/plain": [
       "'<start> gotta get me some . . . all day all day <end> '"
      ]
     },
     "execution_count": 17,
     "metadata": {},
     "output_type": "execute_result"
    }
   ],
   "source": [
    "generate_text(model, tokenizer, init_sentence=\"<start> gotta \", max_len=300)"
   ]
  },
  {
   "cell_type": "code",
   "execution_count": 18,
   "id": "469296f0",
   "metadata": {},
   "outputs": [
    {
     "data": {
      "text/plain": [
       "'<start> <unk> a <unk> <end> '"
      ]
     },
     "execution_count": 18,
     "metadata": {},
     "output_type": "execute_result"
    }
   ],
   "source": [
    "generate_text(model, tokenizer, init_sentence=\"<start> I'm a \", max_len=300)"
   ]
  },
  {
   "cell_type": "code",
   "execution_count": 19,
   "id": "ff419f86",
   "metadata": {},
   "outputs": [
    {
     "data": {
      "text/plain": [
       "'<start> hey , hey , hey , hey , hey , hey , hey <end> '"
      ]
     },
     "execution_count": 19,
     "metadata": {},
     "output_type": "execute_result"
    }
   ],
   "source": [
    "generate_text(model, tokenizer, init_sentence=\"<start> hey \", max_len=300)"
   ]
  },
  {
   "cell_type": "code",
   "execution_count": 20,
   "id": "8d1dc58e",
   "metadata": {},
   "outputs": [
    {
     "data": {
      "text/plain": [
       "'<start> why do i feel like the only one ? <end> '"
      ]
     },
     "execution_count": 20,
     "metadata": {},
     "output_type": "execute_result"
    }
   ],
   "source": [
    "generate_text(model, tokenizer, init_sentence=\"<start> why \", max_len=300)"
   ]
  },
  {
   "cell_type": "code",
   "execution_count": 21,
   "id": "fc39c0a3",
   "metadata": {},
   "outputs": [
    {
     "data": {
      "text/plain": [
       "'<start> out of control , <end> '"
      ]
     },
     "execution_count": 21,
     "metadata": {},
     "output_type": "execute_result"
    }
   ],
   "source": [
    "generate_text(model, tokenizer, init_sentence=\"<start> out of  \", max_len=300)"
   ]
  },
  {
   "cell_type": "code",
   "execution_count": 22,
   "id": "cbcedd8c",
   "metadata": {},
   "outputs": [
    {
     "data": {
      "text/plain": [
       "'<start> of <unk> <unk> <end> '"
      ]
     },
     "execution_count": 22,
     "metadata": {},
     "output_type": "execute_result"
    }
   ],
   "source": [
    "generate_text(model, tokenizer, init_sentence=\"<start> of \", max_len=300)"
   ]
  },
  {
   "cell_type": "code",
   "execution_count": 23,
   "id": "df4477b4",
   "metadata": {},
   "outputs": [
    {
     "data": {
      "text/plain": [
       "'<start> of the <unk> <unk> <end> '"
      ]
     },
     "execution_count": 23,
     "metadata": {},
     "output_type": "execute_result"
    }
   ],
   "source": [
    "generate_text(model, tokenizer, init_sentence=\"<start> of the \", max_len=300)"
   ]
  },
  {
   "cell_type": "code",
   "execution_count": 24,
   "id": "746ed4b8",
   "metadata": {},
   "outputs": [
    {
     "data": {
      "text/plain": [
       "'<start> she s got a look at me <end> '"
      ]
     },
     "execution_count": 24,
     "metadata": {},
     "output_type": "execute_result"
    }
   ],
   "source": [
    "generate_text(model, tokenizer, init_sentence=\"<start> she \", max_len=300)"
   ]
  },
  {
   "cell_type": "code",
   "execution_count": 25,
   "id": "de53e14f",
   "metadata": {},
   "outputs": [
    {
     "data": {
      "text/plain": [
       "'<start> she likes the way you did <end> '"
      ]
     },
     "execution_count": 25,
     "metadata": {},
     "output_type": "execute_result"
    }
   ],
   "source": [
    "generate_text(model, tokenizer, init_sentence=\"<start> she likes \", max_len=300)"
   ]
  },
  {
   "cell_type": "code",
   "execution_count": 26,
   "id": "a9e85b4c",
   "metadata": {},
   "outputs": [
    {
     "data": {
      "text/plain": [
       "'<start> he likes to shoot his gun <end> '"
      ]
     },
     "execution_count": 26,
     "metadata": {},
     "output_type": "execute_result"
    }
   ],
   "source": [
    "generate_text(model, tokenizer, init_sentence=\"<start> he likes \", max_len=300)"
   ]
  },
  {
   "cell_type": "code",
   "execution_count": 27,
   "id": "6d895aa9",
   "metadata": {},
   "outputs": [
    {
     "data": {
      "text/plain": [
       "'<start> he likes to shoot his gun <end> '"
      ]
     },
     "execution_count": 27,
     "metadata": {},
     "output_type": "execute_result"
    }
   ],
   "source": [
    "generate_text(model, tokenizer, init_sentence=\"<start> He likes \", max_len=300)"
   ]
  },
  {
   "cell_type": "code",
   "execution_count": 28,
   "id": "e6acba35",
   "metadata": {},
   "outputs": [
    {
     "data": {
      "text/plain": [
       "'<start> my little sister , give me your eye <end> '"
      ]
     },
     "execution_count": 28,
     "metadata": {},
     "output_type": "execute_result"
    }
   ],
   "source": [
    "generate_text(model, tokenizer, init_sentence=\"<start> my little \", max_len=20)"
   ]
  },
  {
   "cell_type": "code",
   "execution_count": null,
   "id": "92012ac8",
   "metadata": {},
   "outputs": [],
   "source": []
  },
  {
   "cell_type": "code",
   "execution_count": null,
   "id": "a76e2783",
   "metadata": {},
   "outputs": [],
   "source": []
  },
  {
   "cell_type": "code",
   "execution_count": null,
   "id": "f0826f0b",
   "metadata": {},
   "outputs": [],
   "source": []
  },
  {
   "cell_type": "code",
   "execution_count": null,
   "id": "9982411c",
   "metadata": {},
   "outputs": [],
   "source": []
  }
 ],
 "metadata": {
  "kernelspec": {
   "display_name": "Python 3 (ipykernel)",
   "language": "python",
   "name": "python3"
  },
  "language_info": {
   "codemirror_mode": {
    "name": "ipython",
    "version": 3
   },
   "file_extension": ".py",
   "mimetype": "text/x-python",
   "name": "python",
   "nbconvert_exporter": "python",
   "pygments_lexer": "ipython3",
   "version": "3.9.7"
  }
 },
 "nbformat": 4,
 "nbformat_minor": 5
}
